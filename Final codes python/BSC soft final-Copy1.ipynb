{
 "cells": [
  {
   "cell_type": "code",
   "execution_count": 1,
   "id": "253df142",
   "metadata": {},
   "outputs": [],
   "source": [
    "#importing all the libraries\n",
    "import numpy as np\n",
    "import matplotlib.pyplot as plt\n",
    "import scipy.io\n",
    "import random\n",
    "import math\n",
    "from IPython.display import clear_output\n",
    "import sys"
   ]
  },
  {
   "cell_type": "code",
   "execution_count": 2,
   "id": "e76aa00a",
   "metadata": {},
   "outputs": [],
   "source": [
    "#loading H matrix from Hmatrix.mat file and converting it to numpy array\n",
    "mat = scipy.io.loadmat('Hmatrix3.mat')\n",
    "arr = mat['H']"
   ]
  },
  {
   "cell_type": "code",
   "execution_count": 3,
   "id": "e369e9fd",
   "metadata": {},
   "outputs": [
    {
     "name": "stdout",
     "output_type": "stream",
     "text": [
      "[0.  0.1 0.2 0.3 0.4 0.5 0.6 0.7 0.8 0.9 1. ]\n"
     ]
    }
   ],
   "source": [
    "#creating p evenly spaced\n",
    "p = np.linspace(0, 1.1, 11, endpoint = False)\n",
    "print(p)"
   ]
  },
  {
   "cell_type": "code",
   "execution_count": 4,
   "id": "8ddad9cd",
   "metadata": {},
   "outputs": [],
   "source": [
    "#success matrix\n",
    "nsuc=np.zeros(len(p)) # Array to store success\n"
   ]
  },
  {
   "cell_type": "code",
   "execution_count": 5,
   "id": "b45de589",
   "metadata": {},
   "outputs": [
    {
     "name": "stdout",
     "output_type": "stream",
     "text": [
      "12\n",
      "9\n"
     ]
    }
   ],
   "source": [
    "colm = len(arr[0])#number of columns\n",
    "row = len(arr)#number of rows\n",
    "print(colm)\n",
    "print(row)"
   ]
  },
  {
   "cell_type": "code",
   "execution_count": 6,
   "id": "c649bc03",
   "metadata": {},
   "outputs": [
    {
     "name": "stdout",
     "output_type": "stream",
     "text": [
      "[0. 0. 0. 0. 0. 0. 0. 0. 0. 0. 0. 0.]\n"
     ]
    }
   ],
   "source": [
    "c = np.zeros(colm) # Input of BSC Channel \n",
    "cnt = 0\n",
    "nsim = 100\n",
    "onlylj = 0\n",
    "Lj_prev=np.zeros(colm) # For Breaking Condition\n",
    "print(c)"
   ]
  },
  {
   "cell_type": "code",
   "execution_count": 7,
   "id": "3b26e19b",
   "metadata": {
    "scrolled": true
   },
   "outputs": [
    {
     "name": "stdout",
     "output_type": "stream",
     "text": [
      "10.99 %\n"
     ]
    }
   ],
   "source": [
    "counter=-1\n",
    "for a in p:\n",
    "    counter+=1\n",
    "    for b in range(nsim): # Monte-Carlo Simulation\n",
    "        clear_output(wait = True)\n",
    "        print(counter+(np.round((b/nsim)*100, 2))/100,\"%\")\n",
    "        e=[]\n",
    "        for z in range(colm): # noise generated\n",
    "                if(random.random() < a):\n",
    "                    e.append(1)\n",
    "                else:\n",
    "                    e.append(0)\n",
    "        \n",
    "        Msg_received = []\n",
    "        for z in range(len(c)):  # Message generating \n",
    "            Msg_received.append( int(e[z])^int(c[z]))\n",
    "        \n",
    "        llr=np.zeros(colm) # log likelihood ratio\n",
    "        # Loading The Message from VN to CN\n",
    "        for i in range(colm): # loading log likelihood ratio of MSG\n",
    "            if Msg_received[i]==1:\n",
    "                if(1-a == 0):\n",
    "                    llr[i]=np.inf\n",
    "                elif(a==0):\n",
    "                    llr[i] = -np.inf\n",
    "                else:\n",
    "                    llr[i]=math.log(a/(1-a)) # Log of odd in favor of zero\n",
    "            else:\n",
    "                if(1-a == 0):\n",
    "                    llr[i]=-np.inf\n",
    "                elif(a==0):\n",
    "                    llr[i]=np.inf\n",
    "                else:\n",
    "                    llr[i]=math.log((1-a)/a)\n",
    "                \n",
    "        \n",
    "        Mij1=np.zeros((row,colm)) # LLR Ratio's VN to CN\n",
    "        for i in range((row)):\n",
    "            for j in range((colm)):\n",
    "                if arr[i][j]==1:  # storing LLR of VN connected to CN in matrix\n",
    "                    Mij1[i][j]=llr[j]; # for first iteration\n",
    "        \n",
    "        Eij=np.zeros((row,colm))  # CN calculation\n",
    "        for i in range(row):\n",
    "            for j in range(colm):\n",
    "                if Mij1[i][j]!=0: # checking whether there is any value of LLR present in matrix\n",
    "                    temp_cnt=1\n",
    "                    not_ii=j\n",
    "                    for ii in range(colm):\n",
    "                        if (ii!=not_ii) and (Mij1[i][ii]!=0):\n",
    "                            not_Mij2=Mij1[i][ii]\n",
    "                            temp_cnt=temp_cnt * math.tanh(not_Mij2/2)  # Probabilities passing from VN to CN\n",
    "                    if(1-temp_cnt == 0):\n",
    "                        Eij[i][j]=np.inf\n",
    "                    elif(1+temp_cnt==0):\n",
    "                        Eij[i][j]=-np.inf\n",
    "                    else:\n",
    "                        Eij[i][j]=math.log((1+temp_cnt)/(1-temp_cnt)) # Loading LLR of all mulitplied probabilites\n",
    "                        # LLR of CN thinks that VN is 0 / CN thinks that VN is 1\n",
    "        \n",
    "        Li=np.zeros(colm) # Decision Boundary \n",
    "        Li = np.ndarray.tolist(Li)\n",
    "        for i in range(colm):\n",
    "            onlylj = 0\n",
    "            for t in range(row):\n",
    "                onlylj+=Eij[t][i]\n",
    "            Li[i]=onlylj+llr[i] # Adding llr of all the CN->VN and llr from channel\n",
    "        \n",
    "        Msg_received2=np.zeros(colm)\n",
    "        for i in range(colm):\n",
    "            if Li[i]<=0:\n",
    "                Msg_received2[i]=1\n",
    "        \n",
    "        if(sum(Msg_received2)==0): # If decoded message is all zeros \n",
    "            nsuc[cnt]=nsuc[cnt]+1\n",
    "        else:\n",
    "            counter2=-1\n",
    "            for iit in range(50):\n",
    "            \n",
    "                Mij2=np.zeros((row,colm))\n",
    "                for i in range(row):\n",
    "                    for j in range(colm):\n",
    "                        \n",
    "                        if arr[i][j]==1:\n",
    "                            temp_cnt=0\n",
    "                            not_ii=i\n",
    "                            for ii in range(row):\n",
    "                                if (Eij[ii][j]!=0) and (ii!=not_ii):\n",
    "                                    temp_cnt=temp_cnt+Eij[ii][j]                         \n",
    "                            Mij2[i][j]=temp_cnt+llr[j]\n",
    "                \n",
    "                Eij=np.zeros((row,colm))\n",
    "                for i in range(row):\n",
    "                    for j in range(colm):\n",
    "                        if Mij2[i][j]!=0:\n",
    "                            temp_cnt=1\n",
    "                            not_ii=j\n",
    "                            for ii in range(colm):\n",
    "                                if (ii!=not_ii) and (Mij2[i][ii]!=0):\n",
    "                                    not_Mij2=Mij2[i][ii]\n",
    "                                    temp_cnt=temp_cnt * math.tanh(not_Mij2/2)  \n",
    "                            if(1-temp_cnt == 0):\n",
    "                                Eij[i][j]=np.inf\n",
    "                            elif(1+temp_cnt == 0):\n",
    "                                Eij[i][j] = -np.inf\n",
    "                            else:\n",
    "                                Eij[i][j]=math.log((1+temp_cnt)/(1-temp_cnt))\n",
    "                \n",
    "                Li=np.zeros(colm)\n",
    "                for i in range(colm):\n",
    "                    onlylj = 0\n",
    "                    for t in range(row):\n",
    "                        onlylj+=Eij[t][i]\n",
    "                    \n",
    "                    Li[i]=onlylj+llr[i]\n",
    "                if(Li.all()==Lj_prev.all()): # If LLR does not change after iteration\n",
    "                    #It means that no further decoding is possible\n",
    "                    break\n",
    "                \n",
    "                Lj_prev=Li\n",
    "                Msg_received2=np.zeros(colm)\n",
    "                for i in range(colm):\n",
    "                    if Li[i]<=0:\n",
    "                        Msg_received2[i]=1\n",
    "                temp_sum = 0\n",
    "                for x in Msg_received2:\n",
    "                    temp_sum += x\n",
    "                if(temp_sum==0): # Successfully decoded\n",
    "                    nsuc[cnt]=nsuc[cnt]+1 # incrementing the counter\n",
    "                    break\n",
    "    cnt=cnt+1"
   ]
  },
  {
   "cell_type": "code",
   "execution_count": 8,
   "id": "57efe98b",
   "metadata": {},
   "outputs": [
    {
     "data": {
      "text/plain": [
       "Text(0, 0.5, 'Probability of success')"
      ]
     },
     "execution_count": 8,
     "metadata": {},
     "output_type": "execute_result"
    },
    {
     "data": {
      "image/png": "[encoded data removed]",
      "text/plain": [
       "<Figure size 432x288 with 1 Axes>"
      ]
     },
     "metadata": {
      "needs_background": "light"
     },
     "output_type": "display_data"
    }
   ],
   "source": [
    "#plotting the graph\n",
    "plt.plot(p,nsuc/nsim,linewidth = 2)\n",
    "plt.grid()\n",
    "plt.title(\"Monte-Carlo Simulation in BSC channel SDD\")\n",
    "plt.xlabel(\"Probability of error in BSC channel SDD\")\n",
    "plt.ylabel(\"Probability of success\") \n"
   ]
  }
 ],
 "metadata": {
  "kernelspec": {
   "display_name": "Python 3",
   "language": "python",
   "name": "python3"
  },
  "language_info": {
   "codemirror_mode": {
    "name": "ipython",
    "version": 3
   },
   "file_extension": ".py",
   "mimetype": "text/x-python",
   "name": "python",
   "nbconvert_exporter": "python",
   "pygments_lexer": "ipython3",
   "version": "3.8.8"
  }
 },
 "nbformat": 4,
 "nbformat_minor": 5
}
