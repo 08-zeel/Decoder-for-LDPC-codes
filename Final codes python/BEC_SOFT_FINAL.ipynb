{
 "cells": [
  {
   "cell_type": "code",
   "execution_count": 9,
   "id": "25dcd25d",
   "metadata": {},
   "outputs": [],
   "source": [
    "#importing all the libraries\n",
    "import numpy as np\n",
    "import matplotlib.pyplot as plt\n",
    "import scipy.io\n",
    "import random\n",
    "import math\n",
    "from IPython.display import clear_output"
   ]
  },
  {
   "cell_type": "code",
   "execution_count": 10,
   "id": "a03f064b",
   "metadata": {},
   "outputs": [],
   "source": [
    "#loading H matrix from Hmatrix.mat file and converting it to numpy array\n",
    "mat = scipy.io.loadmat('Hmatrix3.mat')\n",
    "arr = mat['H'] # arr is Hmatrix\n"
   ]
  },
  {
   "cell_type": "code",
   "execution_count": 11,
   "id": "c5426517",
   "metadata": {},
   "outputs": [
    {
     "name": "stdout",
     "output_type": "stream",
     "text": [
      "[0.  0.1 0.2 0.3 0.4 0.5 0.6 0.7 0.8 0.9 1. ]\n"
     ]
    }
   ],
   "source": [
    "#creating p evenly spaced\n",
    "p = np.linspace(0, 1.1, 11, endpoint = False)\n",
    "print(p)\n"
   ]
  },
  {
   "cell_type": "code",
   "execution_count": 12,
   "id": "879ce2d0",
   "metadata": {},
   "outputs": [
    {
     "name": "stdout",
     "output_type": "stream",
     "text": [
      "12\n",
      "9\n"
     ]
    }
   ],
   "source": [
    "col = len(arr[0])#number of columns\n",
    "row = len(arr)#number of rows\n",
    "print(col)\n",
    "print(row)"
   ]
  },
  {
   "cell_type": "code",
   "execution_count": 13,
   "id": "0f5649d8",
   "metadata": {},
   "outputs": [],
   "source": [
    "code=np.zeros(col)  # Input of BEC Channel \n",
    "nsuc=np.zeros(len(p)) # Array to store success  \n",
    "cnt=0\n",
    "Nsim = 100\n",
    "Li_prev=np.zeros(col)# For Breaking Condition"
   ]
  },
  {
   "cell_type": "code",
   "execution_count": 14,
   "id": "7c800e94",
   "metadata": {
    "scrolled": true
   },
   "outputs": [
    {
     "name": "stdout",
     "output_type": "stream",
     "text": [
      "10.99 %\n"
     ]
    }
   ],
   "source": [
    "counter = -1\n",
    "for p1 in p:\n",
    "    counter+=1\n",
    "    for b in range(Nsim): # Monte-Carlo Simulation\n",
    "        clear_output(wait = True)\n",
    "        print(counter+(np.round((b/Nsim)*100, 2))/100,\"%\")\n",
    "        noise = []\n",
    "        for x in range(col): # noise generated\n",
    "            if random.random() < p1:\n",
    "                noise.append(1)\n",
    "            else:\n",
    "                noise.append(0)\n",
    "        \n",
    "        Msg_received1=[]\n",
    "        for x in range(len(code)):\n",
    "            Msg_received1.append(code[x]-noise[x]) # Generating Random Message after adding noise\n",
    "        llr=np.zeros(col) # log likelihood ratio\n",
    "       \n",
    "        #Loading The Message from VN to CN\n",
    "        \n",
    "        for i in range(col):     # Initializing Log-Likelihood ratio\n",
    "            if Msg_received1[i]==1:\n",
    "                llr[i]=-np.inf\n",
    "            elif(Msg_received1[i]==0):\n",
    "                llr[i]=np.inf\n",
    "            else:\n",
    "                llr[i]=0       # For erasures odds in favour of 0 is 1 therefore LLR will be 0\n",
    "        \n",
    "        Mij=np.zeros((row,col)) # LLR Ratio's VN to CN\n",
    "        Mij=Mij-1\n",
    "        for i in range(row):\n",
    "            for j in range(col): \n",
    "                if arr[i][j]==1: # storing LLR of VN connected to CN in matrix\n",
    "                    Mij[i][j]=llr[j] # Generating M matrix (similar to Hmatrix) and replacing 1 with LLR\n",
    "\n",
    "        Eij=np.zeros((row,col)) # CN calculation\n",
    "        for i in range(row):\n",
    "            for j in range(col):\n",
    "                if Mij[i][j]!=-1: # checking whether there is any value of LLR present in matrix\n",
    "                    temp_cnt=1\n",
    "                    not_ii=j\n",
    "                    for ii in range(col):\n",
    "                        if (ii!=not_ii) and (Mij[i][ii]!=-1):\n",
    "                            Mj_I=Mij[i][ii]\n",
    "                            temp_cnt=temp_cnt * math.tanh(Mj_I/2) # Probabilities passing from VN to CN\n",
    "                    if(1+temp_cnt == 0):\n",
    "                        Eij[i][j]=-np.inf\n",
    "                    elif(1-temp_cnt == 0):\n",
    "                        Eij[i][j]=np.inf\n",
    "                    else:\n",
    "                        Eij[i][j]=math.log((1+temp_cnt)/(1-temp_cnt)) # Loading LLR of all mulitplied probabilites \n",
    "                     # LLR of CN thinks that VN is 0 / CN thinks that VN is 1\n",
    "                    \n",
    "        Li=np.zeros(col) # Decision Boundary\n",
    "        temp_total = 0\n",
    "       \n",
    "        for i in range(col):\n",
    "            for j in range(row):\n",
    "                temp_total += Eij[j][i]\n",
    "            onlylj = temp_total + llr[i] # Adding llr of all the CN->VN and llr from channel\n",
    "            Li[i]=onlylj\n",
    "        \n",
    "        Msg_received=np.zeros(col)\n",
    "        for i in range(col):     # Decision Boundary\n",
    "            if Li[i]==-np.inf:\n",
    "                Msg_received[i]=1\n",
    "            elif(Li[i]==np.inf):\n",
    "                Msg_received[i]=0\n",
    "            else:\n",
    "                Msg_received[i]=-1\n",
    "\n",
    "       \n",
    "        \n",
    "        if(np.sum(Msg_received)==0): # If decoded message is all zeros \n",
    "            nsuc[cnt]=nsuc[cnt]+1\n",
    "        else:\n",
    "            for iit in range(50):       # Iteration loop\n",
    "                Mji=np.zeros((row,col))\n",
    "                Mji=Mji-1\n",
    "                for i in range(row):\n",
    "                    for j in range(col):\n",
    "                        if arr[i][j]==1:\n",
    "                            temp_cnt=0\n",
    "                            not_ii=i\n",
    "                            for ii in range(row):\n",
    "                                if (Eij[ii][j]!=0) and (ii!=not_ii):\n",
    "                                    temp_cnt=temp_cnt+Eij[ii][j]                       \n",
    "                            Mji[i][j]=temp_cnt+llr[j]\n",
    "                \n",
    "                Eij=np.zeros((row,col))\n",
    "                for i in range(row):\n",
    "                    for j in range(col):\n",
    "                        if Mji[i][j]!=-1:\n",
    "                            temp_cnt=1\n",
    "                            not_ii=j\n",
    "                            for ii in range(col):\n",
    "                                if (ii!=not_ii) and (Mji[i][ii]!=-1):\n",
    "                                    Mj_I=Mji[i][ii]\n",
    "                                    temp_cnt=temp_cnt * math.tanh(Mj_I/2)\n",
    "                            if(1+temp_cnt == 0):\n",
    "                                Eij[i][j]=-np.inf\n",
    "                            elif(1-temp_cnt == 0):\n",
    "                                Eij[i][j]=np.inf\n",
    "                            else:\n",
    "                                Eij[i][j]=math.log((1+temp_cnt)/(1-temp_cnt))\n",
    "                            \n",
    "                \n",
    "                Li=np.zeros(col)\n",
    "                temp_total = 0\n",
    "                for i in range(col):\n",
    "                    for j in range(row):\n",
    "                        temp_total += Eij[j][i]\n",
    "                    Li[i] = temp_total + llr[i]\n",
    "\n",
    "                if (Li.all()==Li_prev.all()):# If LLR does not change after iteration\n",
    "                   # It means that no further decoding is possible\n",
    "                   # This code can't be decoded\n",
    "                     break\n",
    "                Li_prev=Li\n",
    "                Msg_received=np.zeros(col)\n",
    "                for i in range(col):\n",
    "                    if Li[i]==-np.inf:\n",
    "                        Msg_received[i]=1\n",
    "                    elif(Li[i]==np.inf):\n",
    "                        Msg_received[i]=0\n",
    "                    else:\n",
    "                        Msg_received[i]=-1\n",
    "                \n",
    "                if(np.sum(Msg_received)==0): # Successfully decoded\n",
    "                    nsuc[cnt]=nsuc[cnt]+1  # incrementing the counter\n",
    "                    break\n",
    "    cnt=cnt+1"
   ]
  },
  {
   "cell_type": "code",
   "execution_count": 15,
   "id": "a409d983",
   "metadata": {},
   "outputs": [],
   "source": [
    "array_plot = []"
   ]
  },
  {
   "cell_type": "code",
   "execution_count": 16,
   "id": "f740bb2a",
   "metadata": {},
   "outputs": [
    {
     "data": {
      "text/plain": [
       "Text(0, 0.5, 'Probability of success')"
      ]
     },
     "execution_count": 16,
     "metadata": {},
     "output_type": "execute_result"
    },
    {
     "data": {
      "image/png": "[encoded data removed]",
      "text/plain": [
       "<Figure size 432x288 with 1 Axes>"
      ]
     },
     "metadata": {
      "needs_background": "light"
     },
     "output_type": "display_data"
    }
   ],
   "source": [
    "array_plot = []\n",
    "for x in nsuc:\n",
    "    array_plot.append(x/Nsim)\n",
    "plt.plot(p,array_plot,linewidth = 2)\n",
    "plt.grid()\n",
    "plt.title(\"Monte-Carlo Simulation in BEC channel SDD\")\n",
    "plt.xlabel(\"Probability of error in BEC channel SDD\")\n",
    "plt.ylabel(\"Probability of success\") \n"
   ]
  },
  {
   "cell_type": "code",
   "execution_count": null,
   "id": "b378a857",
   "metadata": {},
   "outputs": [],
   "source": []
  }
 ],
 "metadata": {
  "kernelspec": {
   "display_name": "Python 3",
   "language": "python",
   "name": "python3"
  },
  "language_info": {
   "codemirror_mode": {
    "name": "ipython",
    "version": 3
   },
   "file_extension": ".py",
   "mimetype": "text/x-python",
   "name": "python",
   "nbconvert_exporter": "python",
   "pygments_lexer": "ipython3",
   "version": "3.8.8"
  }
 },
 "nbformat": 4,
 "nbformat_minor": 5
}
