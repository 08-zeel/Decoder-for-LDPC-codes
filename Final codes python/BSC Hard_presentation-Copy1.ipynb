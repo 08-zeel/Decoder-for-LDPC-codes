{
 "cells": [
  {
   "cell_type": "code",
   "execution_count": 2,
   "id": "bba4b875",
   "metadata": {},
   "outputs": [],
   "source": [
    "#importing all the libraries\n",
    "import numpy as np\n",
    "import matplotlib.pyplot as plt\n",
    "import scipy.io\n",
    "import random\n",
    "import math\n",
    "from IPython.display import clear_output"
   ]
  },
  {
   "cell_type": "code",
   "execution_count": 3,
   "id": "9191c74a",
   "metadata": {},
   "outputs": [],
   "source": [
    "#loading H matrix from Hmatrix.mat file and converting it to numpy array\n",
    "mat = scipy.io.loadmat('Hmatrix3.mat')\n",
    "arr = mat['H']"
   ]
  },
  {
   "cell_type": "code",
   "execution_count": 4,
   "id": "cc4b1a99",
   "metadata": {},
   "outputs": [
    {
     "name": "stdout",
     "output_type": "stream",
     "text": [
      "12\n",
      "9\n"
     ]
    }
   ],
   "source": [
    "#defining the number of rows and columns\n",
    "colm = len(arr[0])\n",
    "row = len(arr)\n",
    "print(colm)\n",
    "print(row)"
   ]
  },
  {
   "cell_type": "code",
   "execution_count": 5,
   "id": "7cb87e3f",
   "metadata": {},
   "outputs": [
    {
     "name": "stdout",
     "output_type": "stream",
     "text": [
      "[0.  0.1 0.2 0.3 0.4 0.5 0.6 0.7 0.8 0.9 1. ]\n"
     ]
    }
   ],
   "source": [
    "c=np.zeros(colm) #Input of BSC Channel\n",
    "#creating p evenly spaced\n",
    "p = np.linspace(0, 1.1, 11, endpoint = False)\n",
    "print(p)"
   ]
  },
  {
   "cell_type": "code",
   "execution_count": 6,
   "id": "bc35d617",
   "metadata": {},
   "outputs": [
    {
     "name": "stdout",
     "output_type": "stream",
     "text": [
      "[0. 0. 0. 0. 0. 0. 0. 0. 0. 0. 0.]\n"
     ]
    }
   ],
   "source": [
    "nsim = 100\n",
    "nsuc = np.zeros(len(p)) #Array to store success\n",
    "print(nsuc)"
   ]
  },
  {
   "cell_type": "code",
   "execution_count": 7,
   "id": "3cb9a62f",
   "metadata": {},
   "outputs": [
    {
     "name": "stdout",
     "output_type": "stream",
     "text": [
      "10.99 %\n"
     ]
    }
   ],
   "source": [
    "loop_count = -1\n",
    "for yy in range(len(p)):    \n",
    "    loop_count += 1\n",
    "    for z in range(nsim): #Monte-Carlo Simulation\n",
    "        clear_output(wait = True)\n",
    "        print(loop_count+(np.round((z/nsim)*100, 2))/100,\"%\")\n",
    "        #c=zeros(1,length(h));\n",
    "        e = []\n",
    "        for i in range(colm):\n",
    "            if(random.random() < p[yy]): #noise generated\n",
    "                e.append(1)\n",
    "            else:\n",
    "                e.append(0)\n",
    "        #e=rand(1,colm)<p(yy)\n",
    "        #cr=e;\n",
    "        #cr=xor(c,e);\n",
    "        cr = []\n",
    "        for i1 in range(len(e)):\n",
    "            cr.append(int((c[i1]+e[i1])%2)) #message generated after introducing noise\n",
    "        #cr=rem(c+e,2)\n",
    "        #ct=cr;\n",
    "        #     c0=1-cr;\n",
    "        #     c0=abs(1-cr);\n",
    "        #     c0=xor(cr,1);\n",
    "        for a in range(100): #Iteration loop\n",
    "            #majority voting array for storing votes of respective bits\n",
    "            #variable node sending its own value and storing it \n",
    "            c0 = [] #storing its own voting for bit 0\n",
    "            for var in cr:\n",
    "                c0.append(int((var+1)%2))\n",
    "            #c0=rem(cr+1,2);\n",
    "            c1=cr #storing its own voting for bit 1\n",
    "            temp=cr #message stored in temporary variable used for breaking condition later in this code \n",
    "            for i in range(row):\n",
    "                for j in range(colm):\n",
    "                    if(arr[i][j]==1):\n",
    "                        s=0\n",
    "                        for k in range(colm):\n",
    "                            #check node sending values to variable node by taking XOR of all connected bits except the given bit\n",
    "                            if(arr[i][k]==1 and k!=j):\n",
    "                                s=s+cr[k]\n",
    "                        #here doing modulo 2 which is equivalent to XOR of that variable        \n",
    "                        s=int(s%2)\n",
    "                        #incrementing majority voting array according to value received by check node\n",
    "                        if(s==1):\n",
    "                            c1[j]=c1[j]+1\n",
    "                        else:\n",
    "                            c0[j]=c0[j]+1\n",
    "            #doing majority Voting                \n",
    "            for l in range(len(cr)):\n",
    "                if(c1[l]>c0[l]):\n",
    "                    cr[l]=1\n",
    "                elif(c0[l]>=c1[l]):\n",
    "                    cr[l]=0\n",
    "            temp_sum = 0\n",
    "            for var in cr:\n",
    "                temp_sum += var \n",
    "            if(temp_sum==0): #checking if messsage is successfully decoded or not and breaking the iteration loop\n",
    "                nsuc[yy]=nsuc[yy]+1\n",
    "                break\n",
    "            if(temp==cr): #breaking condition when code cant be decoded successfully\n",
    "                 break"
   ]
  },
  {
   "cell_type": "code",
   "execution_count": 8,
   "id": "f408e472",
   "metadata": {},
   "outputs": [
    {
     "data": {
      "image/png": "[encoded data removed]",
      "text/plain": [
       "<Figure size 432x288 with 1 Axes>"
      ]
     },
     "metadata": {
      "needs_background": "light"
     },
     "output_type": "display_data"
    }
   ],
   "source": [
    "pp = []\n",
    "for var in nsuc:\n",
    "    pp.append(var/nsim)\n",
    "#pp=nsuc/nsim;\n",
    "plt.plot(p,pp,linewidth = 2)\n",
    "plt.title(\"Monte-Carlo Simulation in BSC channel HDD\")\n",
    "plt.xlabel(\"Probability of error in BSC channel HDD\")\n",
    "plt.ylabel(\"Probability of success\") \n",
    "plt.grid()"
   ]
  }
 ],
 "metadata": {
  "kernelspec": {
   "display_name": "Python 3",
   "language": "python",
   "name": "python3"
  },
  "language_info": {
   "codemirror_mode": {
    "name": "ipython",
    "version": 3
   },
   "file_extension": ".py",
   "mimetype": "text/x-python",
   "name": "python",
   "nbconvert_exporter": "python",
   "pygments_lexer": "ipython3",
   "version": "3.8.8"
  }
 },
 "nbformat": 4,
 "nbformat_minor": 5
}
