{
 "cells": [
  {
   "cell_type": "code",
   "execution_count": 10,
   "id": "1d78ef92",
   "metadata": {},
   "outputs": [],
   "source": [
    "#importing all the libraries\n",
    "import numpy as np\n",
    "import matplotlib.pyplot as plt\n",
    "import scipy.io\n",
    "import random\n",
    "from IPython.display import clear_output"
   ]
  },
  {
   "cell_type": "code",
   "execution_count": 11,
   "id": "b8623c5d",
   "metadata": {},
   "outputs": [],
   "source": [
    "#loading H matrix from Hmatrix.mat file and converting it to numpy array\n",
    "mat = scipy.io.loadmat('Hmatrix3.mat')\n",
    "arr = mat['H']"
   ]
  },
  {
   "cell_type": "code",
   "execution_count": 12,
   "id": "fe75f139",
   "metadata": {},
   "outputs": [
    {
     "name": "stdout",
     "output_type": "stream",
     "text": [
      "12\n",
      "9\n"
     ]
    }
   ],
   "source": [
    "c = len(arr[0])#size of column 2\n",
    "r = len(arr)#size of coulmn 1\n",
    "print(c)\n",
    "print(r)"
   ]
  },
  {
   "cell_type": "code",
   "execution_count": 13,
   "id": "976d49b1",
   "metadata": {},
   "outputs": [],
   "source": [
    "#column vector of size 1 to c\n",
    "Msg_generated = np.zeros((1, c))\n",
    "Msg_generated = np.transpose(Msg_generated)"
   ]
  },
  {
   "cell_type": "code",
   "execution_count": 14,
   "id": "3c191977",
   "metadata": {},
   "outputs": [
    {
     "name": "stdout",
     "output_type": "stream",
     "text": [
      "[0.  0.1 0.2 0.3 0.4 0.5 0.6 0.7 0.8 0.9 1. ]\n"
     ]
    }
   ],
   "source": [
    "#creating p evenly spaced\n",
    "p = np.linspace(0, 1.1, 11, endpoint = False)\n",
    "print(p)"
   ]
  },
  {
   "cell_type": "code",
   "execution_count": 15,
   "id": "823f564d",
   "metadata": {},
   "outputs": [
    {
     "name": "stdout",
     "output_type": "stream",
     "text": [
      "[0.0, 0.0, 0.0, 0.0, 0.0, 0.0, 0.0, 0.0, 0.0, 0.0, 0.0]\n"
     ]
    },
    {
     "data": {
      "text/plain": [
       "11"
      ]
     },
     "execution_count": 15,
     "metadata": {},
     "output_type": "execute_result"
    }
   ],
   "source": [
    "#column vector of size 1 to length of p i.e. 11\n",
    "prob_s = np.zeros(11, dtype = float)\n",
    "#prob_s = np.transpose(prob_s)\n",
    "prob_s=np.ndarray.tolist(prob_s)\n",
    "print(prob_s)\n",
    "len(prob_s)"
   ]
  },
  {
   "cell_type": "code",
   "execution_count": 16,
   "id": "feeb5cbe",
   "metadata": {},
   "outputs": [],
   "source": [
    "#defining\n",
    "kk = 0\n",
    "Nsim = 1000"
   ]
  },
  {
   "cell_type": "code",
   "execution_count": 17,
   "id": "b267e0cf",
   "metadata": {},
   "outputs": [
    {
     "name": "stdout",
     "output_type": "stream",
     "text": [
      "10.999 %\n"
     ]
    }
   ],
   "source": [
    "loop_counter = -1\n",
    "update_err_no = []\n",
    "for d in p:\n",
    "    loop_counter+=1\n",
    "    Sum_s = 0\n",
    "    for b in range(Nsim):\n",
    "        clear_output(wait = True)\n",
    "        print(loop_counter+(np.round((b/Nsim)*100, 2))/100,\"%\")\n",
    "        transmitted = []\n",
    "        noise = []\n",
    "    \n",
    "        for z in range(c):\n",
    "            if(random.random() > 1-d):\n",
    "                transmitted.append(1)\n",
    "            else:\n",
    "                transmitted.append(0)\n",
    "        ##transmitted = rand(1,c) > 1 -d\n",
    "        \n",
    "        for q in range(c): # Noise generating\n",
    "            if(random.random() > 1-d): \n",
    "                noise.append(1)\n",
    "            else:\n",
    "                noise.append(0)\n",
    "                \n",
    "        ##noise = rand(1,c) > 1 - d # generating the random numbers between 1 to c and defining noise\n",
    "        for w in range(c): # Generating Random Message after adding noise\n",
    "            if noise[w] == 1:\n",
    "                Msg_generated[w] = -1\n",
    "            else:\n",
    "                Msg_generated[w] = noise[w]^transmitted[w] #implementing the XOR function with Noise and Transmitted Message\n",
    "        e_count = 0\n",
    "        for z in range(len(Msg_generated)):\n",
    "            if Msg_generated[z] != 0 and Msg_generated[z] != 1: #Counting Total number of Erasures present in the Message\n",
    "                e_count += 1\n",
    "        succ = 1\n",
    "        temp_cnt = 0 # Temporary Counter for storing error count of previous iteration\n",
    "        itcheck = 1 # Iteration counter\n",
    "       \n",
    "        \n",
    "        # index of update_err_no\n",
    "        \n",
    "        update_err_no.append(e_count)\n",
    "        while e_count > 0 and itcheck<=50:\n",
    "            if temp_cnt == e_count: # Checking whether number of erasures are same after each iteration\n",
    "                # disp(\"This code cant be resolved as it as errors which cannot be corrected\")\n",
    "                succ = 0\n",
    "                break\n",
    "            temp_cnt = e_count\n",
    "\n",
    "            for i in range(r):\n",
    "                no1 = 0\n",
    "                nerr = 0\n",
    "                index = 0\n",
    "                for j in range(c): # Message passing from Variable-Node to Check-node\n",
    "                    if arr[i][j] == 1: \n",
    "                        if Msg_generated[j] == 1:\n",
    "                            no1 += 1 # Counting Number of ones in variable nodes connected to particular check-node\n",
    "                        elif Msg_generated[j] == 0:\n",
    "                            no1 += 0\n",
    "                        else:\n",
    "                            nerr += 1 # Counting NUmber of erasures present in variable nodes \n",
    "                            index = j \n",
    "                if nerr == 1: # If Number of Erasures are one for that check-node\n",
    "                    Msg_generated[index] = no1%2 # Message passing from Check-Node to Variable-Node\n",
    "                    e_count -= 1\n",
    "                itcheck += 1\n",
    "                if e_count == 0: # Checking whether there are any erasures left or not\n",
    "                    succ = 1 # If number of Erasures are zero then message is successfully decoded\n",
    "                    break\n",
    "        if succ == 1:\n",
    "            Sum_s = Sum_s + 1\n",
    "    prob_s[kk] = Sum_s/Nsim\n",
    "    kk = kk + 1"
   ]
  },
  {
   "cell_type": "code",
   "execution_count": 18,
   "id": "fdc26837",
   "metadata": {},
   "outputs": [
    {
     "data": {
      "image/png": "[encoded data removed]",
      "text/plain": [
       "<Figure size 432x288 with 1 Axes>"
      ]
     },
     "metadata": {
      "needs_background": "light"
     },
     "output_type": "display_data"
    }
   ],
   "source": [
    "#graphing\n",
    "q = np.transpose(p)\n",
    "x = np.transpose(prob_s)\n",
    "plt.plot(q, x, linewidth = 2)\n",
    "plt.title(\"Monte-Carlo Simulation in BEC channel HDD\")\n",
    "plt.xlabel(\"Probability of error in BEC channel HDD\")\n",
    "plt.ylabel(\"Probability of success\") \n",
    "plt.grid()\n"
   ]
  },
  {
   "cell_type": "code",
   "execution_count": null,
   "id": "7a4ddf46",
   "metadata": {},
   "outputs": [],
   "source": []
  }
 ],
 "metadata": {
  "kernelspec": {
   "display_name": "Python 3",
   "language": "python",
   "name": "python3"
  },
  "language_info": {
   "codemirror_mode": {
    "name": "ipython",
    "version": 3
   },
   "file_extension": ".py",
   "mimetype": "text/x-python",
   "name": "python",
   "nbconvert_exporter": "python",
   "pygments_lexer": "ipython3",
   "version": "3.8.8"
  }
 },
 "nbformat": 4,
 "nbformat_minor": 5
}
